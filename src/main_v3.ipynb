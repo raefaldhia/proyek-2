{
 "cells": [
  {
   "cell_type": "markdown",
   "metadata": {},
   "source": [
    "Sistem Rekomendasi Soal - AIZU Online Judge\n",
    "======================================\n",
    "Proyek 2 - 2A D4 Teknik Komputer dan Informatika"
   ]
  },
  {
   "cell_type": "markdown",
   "metadata": {},
   "source": [
    "## Prerequisites"
   ]
  },
  {
   "cell_type": "code",
   "execution_count": 18,
   "metadata": {},
   "outputs": [
    {
     "name": "stdout",
     "output_type": "stream",
     "text": [
      "Collecting package metadata (current_repodata.json): done\n",
      "Solving environment: done\n",
      "\n",
      "# All requested packages already installed.\n",
      "\n"
     ]
    }
   ],
   "source": [
    "!conda install scikit-learn pandas numpy keras matplotlib -y"
   ]
  },
  {
   "cell_type": "markdown",
   "metadata": {},
   "source": [
    "## Implementation"
   ]
  },
  {
   "cell_type": "code",
   "execution_count": 1,
   "metadata": {},
   "outputs": [
    {
     "name": "stderr",
     "output_type": "stream",
     "text": [
      "Using TensorFlow backend.\n"
     ]
    }
   ],
   "source": [
    "import keras\n",
    "import keras.callbacks\n",
    "import keras.layers\n",
    "import keras.preprocessing.sequence\n",
    "import keras.utils.np_utils\n",
    "import matplotlib.pyplot\n",
    "import numpy\n",
    "import pandas\n",
    "import sklearn\n",
    "import sklearn.cluster\n",
    "import sklearn.preprocessing\n",
    "\n",
    "ABILITYCHART_CSV = pandas.read_csv('abilitychart.csv')\n",
    "ABILITYCHART_CSV = ABILITYCHART_CSV.set_index(\"userId\")\n",
    "ABILITYCHART_CSV = ABILITYCHART_CSV.sort_values(['solvedNum'], ascending=False)\n",
    "ABILITYCHART_CSV.loc[:, \"Straight Forward\":\"Tree\"] = sklearn.preprocessing.MinMaxScaler().fit_transform(ABILITYCHART_CSV.loc[:,\"Straight Forward\":\"Tree\"])\n",
    "\n",
    "LEARNINGPATH_CSV = pandas.read_csv('learning.csv')\n",
    "LEARNINGPATH_CSV = LEARNINGPATH_CSV.set_index(\"userId\")\n",
    "LEARNINGPATH_CSV = LEARNINGPATH_CSV.sort_values(by=['userId', 'submissionDate'])\n",
    "\n",
    "PROBLEM_CSV = LEARNINGPATH_CSV.loc[:,'problemId'].unique()\n",
    "PROBLEM_LENGTH = len(PROBLEM_CSV)\n",
    "PROBLEM_MAP_NAME_TO_INT = dict([(y, x) for x, y in enumerate(PROBLEM_CSV)])\n",
    "PROBLEM_MAP_INT_TO_NAME = dict([(x, y) for x, y in enumerate(PROBLEM_CSV)])\n",
    "PROBLEM_STATUS_SOLVED = 4\n",
    "\n",
    "def get_normal_user(minimal_solvedNum=100):\n",
    "    return ABILITYCHART_CSV.sort_values(['solvedNum'], ascending=False).loc[ABILITYCHART_CSV['solvedNum'] >= minimal_solvedNum].index.unique().values\n",
    "\n",
    "def get_candidate_user(target_user):\n",
    "    target_user_learning_path = LEARNINGPATH_CSV.loc[((LEARNINGPATH_CSV.index == target_user) & (LEARNINGPATH_CSV['status'] == PROBLEM_STATUS_SOLVED)), 'problemId'].values\n",
    "    return LEARNINGPATH_CSV.loc[(LEARNINGPATH_CSV.index.isin(get_normal_user()) & (LEARNINGPATH_CSV['problemId'].isin(target_user_learning_path)))].index.unique().values\n",
    "\n",
    "def get_teacher_user(target_user):\n",
    "    user_ability_chart = ABILITYCHART_CSV.loc[ABILITYCHART_CSV.index.isin(numpy.append(get_candidate_user(target_user), target_user)), 'Straight Forward':'Tree']\n",
    "    user_ability_chart['cluster'] = sklearn.cluster.KMeans(init='k-means++', n_clusters=8).fit_predict(user_ability_chart.loc[:,\"Straight Forward\":\"Tree\"])\n",
    "    return user_ability_chart[(user_ability_chart.index != target_user) & (user_ability_chart['cluster'] == user_ability_chart.loc[target_user, 'cluster'])].index.unique().values    \n",
    "\n",
    "def get_teacher_user_learning_path(target_user):\n",
    "    return LEARNINGPATH_CSV.loc[LEARNINGPATH_CSV.index.isin(get_teacher_user(target_user)) & (LEARNINGPATH_CSV['status'] == 4), 'problemId']\n",
    "\n",
    "def get_teacher_user_learning_path_raw(target_user):\n",
    "    teacher_user_learning_path = get_teacher_user_learning_path(target_user)\n",
    "    return list(map(lambda x: list(map(lambda y: PROBLEM_MAP_NAME_TO_INT[y], teacher_user_learning_path.loc[teacher_user_learning_path.index == x].values)), teacher_user_learning_path.index.unique().values))\n",
    "\n",
    "def get_training_sample_shape(train_sample):\n",
    "    train_x = []\n",
    "    train_y = []\n",
    "    for learning_path in train_sample:\n",
    "        if len(learning_path) > 1:\n",
    "            train_x.append(numpy.array(learning_path[:-1]))\n",
    "            train_y.append(numpy.array(learning_path[1:]))\n",
    "    # add padding\n",
    "    train_x = keras.preprocessing.sequence.pad_sequences(train_x, value=PROBLEM_LENGTH)\n",
    "    train_y = keras.preprocessing.sequence.pad_sequences(train_y, value=PROBLEM_LENGTH)\n",
    "    # reshape from (sample, timesteps) to (sample, timesteps, feature)\n",
    "    train_x = numpy.array(list(map(lambda x: numpy.reshape(x, (x.shape[0], 1)), train_x)))\n",
    "    train_y = numpy.array(list(map(lambda x: numpy.reshape(x, (x.shape[0], 1)), train_y)))\n",
    "    return train_x, train_y\n",
    "\n",
    "def get_training_sample(target_user, train_size=0.70, _timesteps_head=30):\n",
    "    teacher_user_learning_path_raw = get_teacher_user_learning_path_raw(target_user)\n",
    "    teacher_count = len(teacher_user_learning_path_raw)\n",
    "    if _timesteps_head > 0:\n",
    "        teacher_user_learning_path_raw = list(map(lambda x: x[:_timesteps_head], teacher_user_learning_path_raw))\n",
    "    train_x, train_y = get_training_sample_shape(teacher_user_learning_path_raw)\n",
    "    training_count = int(teacher_count * train_size)\n",
    "    return train_x[0:training_count], train_y[0:training_count], train_x[training_count:teacher_count], train_y[training_count:teacher_count]\n",
    "\n",
    "def get_lstm_model(units):\n",
    "    model = keras.Sequential()\n",
    "    model.add(keras.layers.Masking(mask_value=PROBLEM_LENGTH, input_shape=(None, 1)))\n",
    "    model.add(keras.layers.LSTM(units, return_sequences=True))\n",
    "    model.add(keras.layers.Dense(PROBLEM_LENGTH + 1, activation='softmax'))\n",
    "    model.compile(loss='sparse_categorical_crossentropy', optimizer='adam')\n",
    "    return model\n",
    "\n",
    "def visualize_model_history(model_history):\n",
    "    matplotlib.pyplot.plot(model_history.history['loss'])\n",
    "    matplotlib.pyplot.plot(model_history.history['val_loss'])\n",
    "    matplotlib.pyplot.title('model train vs validation loss')\n",
    "    matplotlib.pyplot.ylabel('loss')\n",
    "    matplotlib.pyplot.xlabel('epoch')\n",
    "    matplotlib.pyplot.legend(['train', 'validation'], loc='upper right')\n",
    "    matplotlib.pyplot.show()\n",
    "\n",
    "def predict(model, target_user):\n",
    "    learning_path = list(map(lambda x: PROBLEM_MAP_NAME_TO_INT[x], LEARNINGPATH_CSV.loc[(LEARNINGPATH_CSV.index == target_user) & (LEARNINGPATH_CSV['status'] == PROBLEM_STATUS_SOLVED), 'problemId'].values))\n",
    "    next_predict = model.predict(numpy.reshape(learning_path, (1, len(learning_path), 1)))\n",
    "    return list(map(lambda x: PROBLEM_MAP_INT_TO_NAME[x], numpy.setdiff1d(numpy.argsort(next_predict[-1,-1][:-1])[::-1], learning_path)))"
   ]
  },
  {
   "cell_type": "markdown",
   "metadata": {},
   "source": [
    "## Evaluation"
   ]
  },
  {
   "cell_type": "code",
   "execution_count": 3,
   "metadata": {},
   "outputs": [
    {
     "name": "stdout",
     "output_type": "stream",
     "text": [
      "Train on 778 samples, validate on 334 samples\n",
      "Epoch 1/10\n",
      "778/778 [==============================] - 134s 172ms/step - loss: 5.6077 - val_loss: 5.1573\n",
      "Epoch 2/10\n",
      "778/778 [==============================] - 155s 199ms/step - loss: 5.0143 - val_loss: 4.8868\n",
      "Epoch 3/10\n",
      "778/778 [==============================] - 158s 203ms/step - loss: 4.7396 - val_loss: 4.6616\n",
      "Epoch 4/10\n",
      "778/778 [==============================] - 161s 207ms/step - loss: 4.5393 - val_loss: 4.5104\n",
      "Epoch 5/10\n",
      "778/778 [==============================] - 122s 157ms/step - loss: 4.3987 - val_loss: 4.4059\n",
      "Epoch 6/10\n",
      "778/778 [==============================] - 135s 174ms/step - loss: 4.2886 - val_loss: 4.3322\n",
      "Epoch 7/10\n",
      "778/778 [==============================] - 128s 164ms/step - loss: 4.2039 - val_loss: 4.2654\n",
      "Epoch 8/10\n",
      "778/778 [==============================] - 131s 169ms/step - loss: 4.1266 - val_loss: 4.2092\n",
      "Epoch 9/10\n",
      "778/778 [==============================] - 122s 157ms/step - loss: 4.0624 - val_loss: 4.1762\n",
      "Epoch 10/10\n",
      "778/778 [==============================] - 122s 157ms/step - loss: 4.0076 - val_loss: 4.1332\n"
     ]
    }
   ],
   "source": [
    "target_user = 'paragon'\n",
    "\n",
    "filename = 'checkpoint-04-4.5393-4.5104.hdf5'\n",
    "\n",
    "train_x, train_y, test_x, test_y = get_training_sample(target_user)\n",
    "\n",
    "model = get_lstm_model(train_x.shape[1])\n",
    "\n",
    "model_history = None\n",
    "\n",
    "if filename == None:\n",
    "    model_history = model.fit(train_x, train_y, validation_data=(test_x, test_y), epochs=10, batch_size=1, callbacks = [keras.callbacks.ModelCheckpoint(\"checkpoint-{epoch:02d}-{loss:.4f}-{val_loss:.4f}.hdf5\", save_weights_only=True)])\n",
    "else:\n",
    "    model.load_weights(filename)"
   ]
  },
  {
   "cell_type": "code",
   "execution_count": 4,
   "metadata": {},
   "outputs": [
    {
     "data": {
      "image/png": "[encoded data removed]",
      "text/plain": [
       "<Figure size 432x288 with 1 Axes>"
      ]
     },
     "metadata": {
      "needs_background": "light"
     },
     "output_type": "display_data"
    }
   ],
   "source": [
    "if model_history != None:\n",
    "    visualize_model_history(model_history)"
   ]
  },
  {
   "cell_type": "code",
   "execution_count": 9,
   "metadata": {},
   "outputs": [
    {
     "data": {
      "text/plain": [
       "['ITP1_1_B',\n",
       " '1172',\n",
       " '0010',\n",
       " '0011',\n",
       " '0012',\n",
       " 'DSL_1_A',\n",
       " 'GRL_1_A',\n",
       " 'ITP1_1_A',\n",
       " 'ITP1_1_C',\n",
       " '0013']"
      ]
     },
     "execution_count": 9,
     "metadata": {},
     "output_type": "execute_result"
    }
   ],
   "source": [
    "model.load_weights('checkpoint-04-4.5393-4.5104.hdf5')\n",
    "predict(model, target_user)[:10]"
   ]
  },
  {
   "cell_type": "code",
   "execution_count": 14,
   "metadata": {},
   "outputs": [
    {
     "data": {
      "text/plain": [
       "(725, 29, 1)"
      ]
     },
     "execution_count": 14,
     "metadata": {},
     "output_type": "execute_result"
    }
   ],
   "source": [
    "train_x.shape"
   ]
  },
  {
   "cell_type": "code",
   "execution_count": 16,
   "metadata": {},
   "outputs": [
    {
     "data": {
      "text/plain": [
       "(725, 29, 1)"
      ]
     },
     "execution_count": 16,
     "metadata": {},
     "output_type": "execute_result"
    }
   ],
   "source": [
    "train_y.shape"
   ]
  },
  {
   "cell_type": "code",
   "execution_count": 17,
   "metadata": {},
   "outputs": [
    {
     "name": "stdout",
     "output_type": "stream",
     "text": [
      "Model: \"sequential_1\"\n",
      "_________________________________________________________________\n",
      "Layer (type)                 Output Shape              Param #   \n",
      "=================================================================\n",
      "masking_1 (Masking)          (None, None, 1)           0         \n",
      "_________________________________________________________________\n",
      "lstm_1 (LSTM)                (None, None, 29)          3596      \n",
      "_________________________________________________________________\n",
      "dense_1 (Dense)              (None, None, 2614)        78420     \n",
      "=================================================================\n",
      "Total params: 82,016\n",
      "Trainable params: 82,016\n",
      "Non-trainable params: 0\n",
      "_________________________________________________________________\n"
     ]
    }
   ],
   "source": [
    "model.summary()"
   ]
  },
  {
   "cell_type": "code",
   "execution_count": 20,
   "metadata": {},
   "outputs": [
    {
     "data": {
      "text/html": [
       "<div>\n",
       "<style scoped>\n",
       "    .dataframe tbody tr th:only-of-type {\n",
       "        vertical-align: middle;\n",
       "    }\n",
       "\n",
       "    .dataframe tbody tr th {\n",
       "        vertical-align: top;\n",
       "    }\n",
       "\n",
       "    .dataframe thead th {\n",
       "        text-align: right;\n",
       "    }\n",
       "</style>\n",
       "<table border=\"1\" class=\"dataframe\">\n",
       "  <thead>\n",
       "    <tr style=\"text-align: right;\">\n",
       "      <th></th>\n",
       "      <th>problemId</th>\n",
       "      <th>submissionDate</th>\n",
       "      <th>status</th>\n",
       "    </tr>\n",
       "    <tr>\n",
       "      <th>userId</th>\n",
       "      <th></th>\n",
       "      <th></th>\n",
       "      <th></th>\n",
       "    </tr>\n",
       "  </thead>\n",
       "  <tbody>\n",
       "    <tr>\n",
       "      <th>A027702</th>\n",
       "      <td>ITP1_1_B</td>\n",
       "      <td>1484133387995</td>\n",
       "      <td>4</td>\n",
       "    </tr>\n",
       "    <tr>\n",
       "      <th>A0326</th>\n",
       "      <td>1172</td>\n",
       "      <td>1583215065490</td>\n",
       "      <td>2</td>\n",
       "    </tr>\n",
       "    <tr>\n",
       "      <th>A0326</th>\n",
       "      <td>1172</td>\n",
       "      <td>1583215522222</td>\n",
       "      <td>4</td>\n",
       "    </tr>\n",
       "    <tr>\n",
       "      <th>A0609</th>\n",
       "      <td>ALDS1_1_A</td>\n",
       "      <td>1488980289305</td>\n",
       "      <td>1</td>\n",
       "    </tr>\n",
       "    <tr>\n",
       "      <th>A0609</th>\n",
       "      <td>ALDS1_1_A</td>\n",
       "      <td>1488980416777</td>\n",
       "      <td>8</td>\n",
       "    </tr>\n",
       "    <tr>\n",
       "      <th>...</th>\n",
       "      <td>...</td>\n",
       "      <td>...</td>\n",
       "      <td>...</td>\n",
       "    </tr>\n",
       "    <tr>\n",
       "      <th>zzzz77</th>\n",
       "      <td>ITP1_2_B</td>\n",
       "      <td>1580354071670</td>\n",
       "      <td>4</td>\n",
       "    </tr>\n",
       "    <tr>\n",
       "      <th>zzzz77</th>\n",
       "      <td>ITP1_2_C</td>\n",
       "      <td>1580369057453</td>\n",
       "      <td>7</td>\n",
       "    </tr>\n",
       "    <tr>\n",
       "      <th>zzzz77</th>\n",
       "      <td>ITP1_2_C</td>\n",
       "      <td>1580369329935</td>\n",
       "      <td>4</td>\n",
       "    </tr>\n",
       "    <tr>\n",
       "      <th>zzzz77</th>\n",
       "      <td>ITP1_2_D</td>\n",
       "      <td>1580370367634</td>\n",
       "      <td>4</td>\n",
       "    </tr>\n",
       "    <tr>\n",
       "      <th>zzzzz75</th>\n",
       "      <td>10002</td>\n",
       "      <td>1357914605830</td>\n",
       "      <td>8</td>\n",
       "    </tr>\n",
       "  </tbody>\n",
       "</table>\n",
       "<p>4335334 rows × 3 columns</p>\n",
       "</div>"
      ],
      "text/plain": [
       "         problemId  submissionDate  status\n",
       "userId                                    \n",
       "A027702   ITP1_1_B   1484133387995       4\n",
       "A0326         1172   1583215065490       2\n",
       "A0326         1172   1583215522222       4\n",
       "A0609    ALDS1_1_A   1488980289305       1\n",
       "A0609    ALDS1_1_A   1488980416777       8\n",
       "...            ...             ...     ...\n",
       "zzzz77    ITP1_2_B   1580354071670       4\n",
       "zzzz77    ITP1_2_C   1580369057453       7\n",
       "zzzz77    ITP1_2_C   1580369329935       4\n",
       "zzzz77    ITP1_2_D   1580370367634       4\n",
       "zzzzz75      10002   1357914605830       8\n",
       "\n",
       "[4335334 rows x 3 columns]"
      ]
     },
     "execution_count": 20,
     "metadata": {},
     "output_type": "execute_result"
    }
   ],
   "source": [
    "LEARNINGPATH_CSV"
   ]
  },
  {
   "cell_type": "code",
   "execution_count": null,
   "metadata": {},
   "outputs": [],
   "source": []
  }
 ],
 "metadata": {
  "kernelspec": {
   "display_name": "Python 3",
   "language": "python",
   "name": "python3"
  },
  "language_info": {
   "codemirror_mode": {
    "name": "ipython",
    "version": 3
   },
   "file_extension": ".py",
   "mimetype": "text/x-python",
   "name": "python",
   "nbconvert_exporter": "python",
   "pygments_lexer": "ipython3",
   "version": "3.7.6"
  }
 },
 "nbformat": 4,
 "nbformat_minor": 4
}
